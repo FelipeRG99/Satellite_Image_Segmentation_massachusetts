{
 "cells": [
  {
   "cell_type": "code",
   "execution_count": 2,
   "metadata": {},
   "outputs": [],
   "source": [
    "import cv2\n",
    "from matplotlib import pyplot as plt\n",
    "import os\n",
    "import numpy as np\n",
    "from tqdm import tqdm \n",
    "import shutil"
   ]
  },
  {
   "cell_type": "code",
   "execution_count": null,
   "metadata": {},
   "outputs": [],
   "source": [
    "def num_percentage(img,num=0):\n",
    "    \"\"\"\n",
    "    FUNCION: Devuelve el factor existente entre pixeles de un numero concreto y los pixeles totales de la imagen\n",
    "\n",
    "    PARAMS:\n",
    "        img: np.array de la imagen por cv2.imread()\n",
    "\n",
    "    RETURN:\n",
    "        num_factor= float pixeles del numero num/ pixeles totales\n",
    "\n",
    "    \"\"\"\n",
    "    total_pixels = img.shape[0] * img.shape[1]\n",
    "    num_pixels = np.sum(img == num)  # Contar píxeles blancos\n",
    "    num_factor=num_pixels / total_pixels\n",
    "    return num_factor\n",
    "def from_tiff_to_png(data_path_images,data_path_masks,prefix_path_end,white_threshold=0.1):\n",
    "    descartes=0\n",
    "    data_path_end=data_path_images.replace('tiff',prefix_path_end)\n",
    "    data_path_masks_end=data_path_masks.replace('tiff',prefix_path_end)\n",
    "    data_list_images = os.listdir(data_path_images)\n",
    "    for file in tqdm(data_list_images):\n",
    "        image = cv2.imread(data_path_images+\"\\\\\"+file)\n",
    "\n",
    "        white_factor = num_percentage(image)\n",
    "        if white_factor <= white_threshold:\n",
    "            cv2.imwrite(data_path_end+\"\\\\\"+file.replace('tiff','png'), image)\n",
    "\n",
    "            image = cv2.imread(data_path_masks+\"\\\\\"+file.replace('tiff','tif'))\n",
    "            cv2.imwrite(data_path_masks_end+\"\\\\\"+file.replace('tiff','png'), image)\n",
    "        else:\n",
    "            descartes+=1\n",
    "    print('Se han descartado ',descartes,' imagenes')"
   ]
  },
  {
   "cell_type": "code",
   "execution_count": 14,
   "metadata": {},
   "outputs": [
    {
     "name": "stderr",
     "output_type": "stream",
     "text": [
      "100%|██████████| 1108/1108 [01:55<00:00,  9.61it/s]\n"
     ]
    },
    {
     "name": "stdout",
     "output_type": "stream",
     "text": [
      "Se han descartado  367  imagenes\n"
     ]
    },
    {
     "name": "stderr",
     "output_type": "stream",
     "text": [
      "100%|██████████| 49/49 [00:07<00:00,  6.92it/s]\n"
     ]
    },
    {
     "name": "stdout",
     "output_type": "stream",
     "text": [
      "Se han descartado  0  imagenes\n"
     ]
    },
    {
     "name": "stderr",
     "output_type": "stream",
     "text": [
      "100%|██████████| 14/14 [00:02<00:00,  6.30it/s]"
     ]
    },
    {
     "name": "stdout",
     "output_type": "stream",
     "text": [
      "Se han descartado  0  imagenes\n"
     ]
    },
    {
     "name": "stderr",
     "output_type": "stream",
     "text": [
      "\n"
     ]
    }
   ],
   "source": [
    "for direc in ['train','test','val']:\n",
    "    data_path_images=fr\"..\\tiff\\{direc}\"\n",
    "    data_path_masks=fr\"..\\tiff\\{direc}_labels\"\n",
    "    prefix_path_end='roads_png'\n",
    "\n",
    "    from_tiff_to_png(data_path_images,data_path_masks,prefix_path_end)"
   ]
  }
 ],
 "metadata": {
  "kernelspec": {
   "display_name": "Python 3",
   "language": "python",
   "name": "python3"
  },
  "language_info": {
   "codemirror_mode": {
    "name": "ipython",
    "version": 3
   },
   "file_extension": ".py",
   "mimetype": "text/x-python",
   "name": "python",
   "nbconvert_exporter": "python",
   "pygments_lexer": "ipython3",
   "version": "3.10.13"
  }
 },
 "nbformat": 4,
 "nbformat_minor": 2
}
